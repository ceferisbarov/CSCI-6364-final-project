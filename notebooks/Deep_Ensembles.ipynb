{
  "cells": [
    {
      "cell_type": "markdown",
      "id": "068d922e-1a84-4a3b-afd2-74b81b093342",
      "metadata": {
        "id": "068d922e-1a84-4a3b-afd2-74b81b093342"
      },
      "source": [
        "## Set-up"
      ]
    },
    {
      "cell_type": "code",
      "execution_count": null,
      "id": "-eti_7D3Mikw",
      "metadata": {
        "id": "-eti_7D3Mikw"
      },
      "outputs": [],
      "source": [
        "from google.colab import drive, files\n",
        "drive.mount('drive')"
      ]
    },
    {
      "cell_type": "code",
      "execution_count": null,
      "id": "9c3e6379-d4be-431f-a5f3-26d3607d76fa",
      "metadata": {
        "id": "9c3e6379-d4be-431f-a5f3-26d3607d76fa",
        "tags": []
      },
      "outputs": [],
      "source": [
        "import os\n",
        "import glob\n",
        "import time\n",
        "import datetime\n",
        "from collections import Counter\n",
        "\n",
        "import numpy as np\n",
        "import pandas as pd\n",
        "import matplotlib.pyplot as plt\n",
        "\n",
        "from keras.models import Model\n",
        "from keras.layers import Dense, Input\n",
        "\n",
        "import tensorflow as tf\n",
        "from tensorflow import keras\n",
        "from tensorflow.keras.callbacks import EarlyStopping\n",
        "from tensorflow.python.framework.ops import disable_eager_execution\n",
        "from tensorflow.keras.models import load_model"
      ]
    },
    {
      "cell_type": "code",
      "execution_count": null,
      "id": "96c106a5-4a9c-444f-9b18-0c2ffc8adcca",
      "metadata": {
        "id": "96c106a5-4a9c-444f-9b18-0c2ffc8adcca",
        "tags": []
      },
      "outputs": [],
      "source": [
        "class DeepEnsemble():\n",
        "    @staticmethod\n",
        "    def load_from_dir(directory, **kwargs):\n",
        "      new = DeepEnsemble(**kwargs)\n",
        "      models = []\n",
        "      print(list(os.walk(directory)))\n",
        "      for path in list(os.walk(directory))[0][1]:\n",
        "          temp_model = []\n",
        "          temp_model.append(load_model(os.path.join(directory, path, \"training\")))\n",
        "          temp_model.append(load_model(os.path.join(directory, path, \"encoder\")))\n",
        "          temp_model.append(load_model(os.path.join(directory, path, \"decoder\")))\n",
        "\n",
        "          models.append(tuple(temp_model))\n",
        "\n",
        "      new.models = models\n",
        "      return new\n",
        "\n",
        "    def __init__(self, no_models=5, threshold=0.8, name=None):\n",
        "        self.no_models = no_models\n",
        "        self.models = [self.Seq2SeqModel() for i in range(self.no_models)]\n",
        "        self.threshold=threshold\n",
        "\n",
        "        now = datetime.datetime.now().strftime('%Y%m%d-%H%M%S')\n",
        "        self.name = name if name else f\"DeepEnsemble_{now}\"\n",
        "\n",
        "    def fit(self, **kwargs):\n",
        "        if kwargs.get(\"verbose\") is None:\n",
        "            kwargs[\"verbose\"] = 1\n",
        "        for i in range(self.no_models):\n",
        "            print(f\"Training model no. {i+1}\")\n",
        "            self.models[i][0].fit(**kwargs)\n",
        "\n",
        "    def predict(self, X):\n",
        "        # Encode the sequence for the models\n",
        "        input_seq = self.encode_for_inference(X)\n",
        "\n",
        "        # No. of remaining models to run\n",
        "        remaining =  self.no_models\n",
        "\n",
        "        # No. of matching predictions required\n",
        "        k = self.threshold * self.no_models\n",
        "\n",
        "        predictions = {}\n",
        "        for i in self.models:\n",
        "            out = self.decode_sequence(i[1], i[2], input_seq)\n",
        "            predictions[out] = predictions.get(out, 0) + 1\n",
        "            remaining -= 1\n",
        "\n",
        "            if max(predictions.values()) + remaining < k:\n",
        "              return X\n",
        "\n",
        "            elif max(predictions.values()) >= k:\n",
        "              return max(predictions, key=predictions.get)\n",
        "\n",
        "        return X\n",
        "\n",
        "    def save(self, save_dir=None):\n",
        "        if save_dir == None:\n",
        "            save_dir = self.name\n",
        "        if not os.path.exists(save_dir):\n",
        "            os.makedirs(save_dir)\n",
        "\n",
        "        folder_names = [os.path.join(save_dir, f\"model_{i+1}\") for i in range(self.no_models)]\n",
        "\n",
        "        for i, path in enumerate(folder_names):\n",
        "            if not os.path.exists(path):\n",
        "                os.makedirs(path)\n",
        "\n",
        "            self.models[i][0].save(os.path.join(path, f'training'))\n",
        "            self.models[i][1].save(os.path.join(path, f'encoder'))\n",
        "            self.models[i][2].save(os.path.join(path, f'decoder'))\n",
        "\n",
        "    def encode_for_inference(self, input_text):\n",
        "        encoder_input_text = np.zeros(\n",
        "            (1, max_encoder_seq_length, num_encoder_tokens), dtype=\"float32\"\n",
        "        )\n",
        "        for t, char in enumerate(input_text):\n",
        "            encoder_input_text[:, t, input_token_index[char]] = 1.0\n",
        "        encoder_input_text[:, t + 1 :, input_token_index[\" \"]] = 1.0\n",
        "        return encoder_input_text\n",
        "\n",
        "    def Seq2SeqModel(self):\n",
        "        # Define an input sequence and process it.\n",
        "        encoder_inputs = keras.Input(shape=(None, num_encoder_tokens))\n",
        "        encoder = keras.layers.LSTM(latent_dim, return_state=True)\n",
        "        encoder_outputs, state_h, state_c = encoder(encoder_inputs)\n",
        "\n",
        "        # We discard `encoder_outputs` and only keep the states.\n",
        "        encoder_states = [state_h, state_c]\n",
        "\n",
        "        # Set up the decoder, using `encoder_states` as initial state.\n",
        "        decoder_inputs = keras.Input(shape=(None, num_decoder_tokens))\n",
        "\n",
        "        # We set up our decoder to return full output sequences,\n",
        "        # and to return internal states as well. We don't use the\n",
        "        # return states in the training model, but we will use them in inference.\n",
        "        decoder_lstm = keras.layers.LSTM(latent_dim, return_sequences=True, return_state=True)\n",
        "        decoder_outputs, _, _ = decoder_lstm(decoder_inputs, initial_state=encoder_states)\n",
        "        decoder_dense = keras.layers.Dense(num_decoder_tokens, activation=\"softmax\")\n",
        "        decoder_outputs = decoder_dense(decoder_outputs)\n",
        "\n",
        "        # Define the model that will turn\n",
        "        # `encoder_input_data` & `decoder_input_data` into `decoder_target_data`\n",
        "        model = keras.Model([encoder_inputs, decoder_inputs], decoder_outputs)\n",
        "\n",
        "        model.compile(\n",
        "            optimizer=\"adam\", loss=\"categorical_crossentropy\", metrics=[\"accuracy\"],\n",
        "        )\n",
        "\n",
        "        encoder_inputs = model.input[0]  # input_1\n",
        "        encoder_outputs, state_h_enc, state_c_enc = model.layers[2].output  # lstm_1\n",
        "        encoder_states = [state_h_enc, state_c_enc]\n",
        "        encoder_model = keras.Model(encoder_inputs, encoder_states)\n",
        "\n",
        "        decoder_inputs = model.input[1]  # input_2\n",
        "        decoder_state_input_h = keras.Input(shape=(latent_dim,))\n",
        "        decoder_state_input_c = keras.Input(shape=(latent_dim,))\n",
        "        decoder_states_inputs = [decoder_state_input_h, decoder_state_input_c]\n",
        "        decoder_lstm = model.layers[3]\n",
        "        decoder_outputs, state_h_dec, state_c_dec = decoder_lstm(\n",
        "            decoder_inputs, initial_state=decoder_states_inputs\n",
        "        )\n",
        "        decoder_states = [state_h_dec, state_c_dec]\n",
        "        decoder_dense = model.layers[4]\n",
        "        decoder_outputs = decoder_dense(decoder_outputs)\n",
        "        decoder_model = keras.Model(\n",
        "            [decoder_inputs] + decoder_states_inputs, [decoder_outputs] + decoder_states\n",
        "        )\n",
        "\n",
        "        return (model, encoder_model, decoder_model)\n",
        "\n",
        "    def decode_sequence(self, encoder_model, decoder_model, input_seq):\n",
        "        # Encode the input as state vectors.\n",
        "        states_value = encoder_model.predict(input_seq)\n",
        "\n",
        "        # Generate empty target sequence of length 1.\n",
        "        target_seq = np.zeros((1, 1, num_decoder_tokens))\n",
        "        # Populate the first character of target sequence with the start character.\n",
        "        target_seq[0, 0, target_token_index[\"\\t\"]] = 1.0\n",
        "\n",
        "        # Sampling loop for a batch of sequences\n",
        "        # (to simplify, here we assume a batch of size 1).\n",
        "        stop_condition = False\n",
        "        decoded_sentence = \"\"\n",
        "        while not stop_condition:\n",
        "            output_tokens, h, c = decoder_model.predict([target_seq] + states_value)\n",
        "\n",
        "            # Sample a token\n",
        "            sampled_token_index = np.argmax(output_tokens[0, -1, :])\n",
        "            sampled_char = reverse_target_char_index[sampled_token_index]\n",
        "            decoded_sentence += sampled_char\n",
        "\n",
        "            # Exit condition: either hit max length\n",
        "            # or find stop character.\n",
        "            if sampled_char == \"\\n\" or len(decoded_sentence) > max_decoder_seq_length:\n",
        "                stop_condition = True\n",
        "\n",
        "            # Update the target sequence (of length 1).\n",
        "            target_seq = np.zeros((1, 1, num_decoder_tokens))\n",
        "            target_seq[0, 0, sampled_token_index] = 1.0\n",
        "\n",
        "            # Update states\n",
        "            states_value = [h, c]\n",
        "\n",
        "        return decoded_sentence"
      ]
    },
    {
      "cell_type": "markdown",
      "id": "7572ef44-cc8a-4fbc-90a4-20b09b9e9f9b",
      "metadata": {
        "id": "7572ef44-cc8a-4fbc-90a4-20b09b9e9f9b"
      },
      "source": [
        "## Data"
      ]
    },
    {
      "cell_type": "code",
      "execution_count": null,
      "id": "d841e78f-d0cc-42cf-b91f-aa60929af63d",
      "metadata": {
        "id": "d841e78f-d0cc-42cf-b91f-aa60929af63d"
      },
      "outputs": [],
      "source": [
        "df = pd.read_csv(\"drive/MyDrive/ailab/data/spell_correction_doccano/sc_fb_2022-08-15.csv\")\n",
        "df.drop(['id'], axis=1, inplace=True)\n",
        "df.dropna(inplace=True)\n",
        "df.shape"
      ]
    },
    {
      "cell_type": "code",
      "execution_count": null,
      "id": "53206a4f-f75c-43fc-8128-10cd421ee8ec",
      "metadata": {
        "id": "53206a4f-f75c-43fc-8128-10cd421ee8ec"
      },
      "outputs": [],
      "source": [
        "batch_size = 64  # Batch size for training.\n",
        "epochs = 50  # Number of epochs to train for.\n",
        "latent_dim = 256  # Latent dimensionality of the encoding space.\n",
        "num_samples=33000"
      ]
    },
    {
      "cell_type": "code",
      "execution_count": null,
      "id": "0d30842e-ef4f-4a26-a436-08ac3dd23046",
      "metadata": {
        "id": "0d30842e-ef4f-4a26-a436-08ac3dd23046"
      },
      "outputs": [],
      "source": [
        "val_data = df.iloc[num_samples:,:]\n",
        "model_data = df.iloc[:num_samples,:]"
      ]
    },
    {
      "cell_type": "code",
      "execution_count": null,
      "id": "8fad6092-71aa-4d80-b799-e543157f0f26",
      "metadata": {
        "id": "8fad6092-71aa-4d80-b799-e543157f0f26"
      },
      "outputs": [],
      "source": [
        "data_path = 'output.txt'\n",
        "model_data.to_csv(data_path, header=None, index=None, sep=',', mode='w')"
      ]
    },
    {
      "cell_type": "code",
      "execution_count": null,
      "id": "c8db6469-c475-4ecd-b3fa-c11b6e034580",
      "metadata": {
        "id": "c8db6469-c475-4ecd-b3fa-c11b6e034580",
        "tags": []
      },
      "outputs": [],
      "source": [
        "# Vectorize the data.\n",
        "input_texts = []\n",
        "target_texts = []\n",
        "input_characters = set()\n",
        "target_characters = set()\n",
        "with open(data_path, \"r\", encoding=\"utf-8\") as f:\n",
        "    lines = f.read().split(\"\\n\")\n",
        "for line in lines[: min(num_samples, len(lines) - 1)]:\n",
        "    try:\n",
        "        input_text, target_text = line.split(',')\n",
        "    except ValueError:\n",
        "        continue\n",
        "    # We use \"tab\" as the \"start sequence\" character\n",
        "    # for the targets, and \"\\n\" as \"end sequence\" character.\n",
        "    target_text = \"\\t\" + target_text + \"\\n\"\n",
        "    input_texts.append(input_text)\n",
        "    target_texts.append(target_text)\n",
        "    for char in input_text:\n",
        "        if char not in input_characters:\n",
        "            input_characters.add(char)\n",
        "    for char in target_text:\n",
        "        if char not in target_characters:\n",
        "            target_characters.add(char)\n",
        "\n",
        "input_characters = sorted(list(input_characters))\n",
        "input_characters.insert(0, ' ')\n",
        "target_characters = sorted(list(target_characters))\n",
        "target_characters.insert(0, ' ')\n",
        "\n",
        "num_encoder_tokens = len(input_characters)\n",
        "num_decoder_tokens = len(target_characters)\n",
        "max_encoder_seq_length = max([len(txt) for txt in input_texts])\n",
        "max_decoder_seq_length = max([len(txt) for txt in target_texts])\n",
        "\n",
        "input_token_index = dict([(char, i) for i, char in enumerate(input_characters)])\n",
        "target_token_index = dict([(char, i) for i, char in enumerate(target_characters)])\n",
        "\n",
        "encoder_input_data = np.zeros(\n",
        "    (len(input_texts), max_encoder_seq_length, num_encoder_tokens), dtype=\"float32\"\n",
        ")\n",
        "decoder_input_data = np.zeros(\n",
        "    (len(input_texts), max_decoder_seq_length, num_decoder_tokens), dtype=\"float32\"\n",
        ")\n",
        "decoder_target_data = np.zeros(\n",
        "    (len(input_texts), max_decoder_seq_length, num_decoder_tokens), dtype=\"float32\"\n",
        ")\n",
        "\n",
        "for i, (input_text, target_text) in enumerate(zip(input_texts, target_texts)):\n",
        "    for t, char in enumerate(input_text):\n",
        "        encoder_input_data[i, t, input_token_index[char]] = 1.0\n",
        "    encoder_input_data[i, t + 1 :, input_token_index[\" \"]] = 1.0\n",
        "    for t, char in enumerate(target_text):\n",
        "        # decoder_target_data is ahead of decoder_input_data by one timestep\n",
        "        decoder_input_data[i, t, target_token_index[char]] = 1.0\n",
        "        if t > 0:\n",
        "            # decoder_target_data will be ahead by one timestep\n",
        "            # and will not include the start character.\n",
        "            decoder_target_data[i, t - 1, target_token_index[char]] = 1.0\n",
        "    decoder_input_data[i, t + 1 :, target_token_index[\" \"]] = 1.0\n",
        "    decoder_target_data[i, t:, target_token_index[\" \"]] = 1.0\n"
      ]
    },
    {
      "cell_type": "code",
      "execution_count": null,
      "id": "a233b18d-7936-4926-8614-3d41fdc54c91",
      "metadata": {
        "id": "a233b18d-7936-4926-8614-3d41fdc54c91"
      },
      "outputs": [],
      "source": [
        "reverse_input_char_index = dict((i, char) for char, i in input_token_index.items())\n",
        "reverse_target_char_index = dict((i, char) for char, i in target_token_index.items())"
      ]
    },
    {
      "cell_type": "code",
      "execution_count": null,
      "id": "pss2fkjIpR3B",
      "metadata": {
        "colab": {
          "base_uri": "https://localhost:8080/",
          "height": 52
        },
        "id": "pss2fkjIpR3B",
        "outputId": "4cfafb2b-bdf1-43ba-eb38-ca0cd63f2261"
      },
      "outputs": [
        {
          "data": {
            "application/javascript": "\n    async function download(id, filename, size) {\n      if (!google.colab.kernel.accessAllowed) {\n        return;\n      }\n      const div = document.createElement('div');\n      const label = document.createElement('label');\n      label.textContent = `Downloading \"${filename}\": `;\n      div.appendChild(label);\n      const progress = document.createElement('progress');\n      progress.max = size;\n      div.appendChild(progress);\n      document.body.appendChild(div);\n\n      const buffers = [];\n      let downloaded = 0;\n\n      const channel = await google.colab.kernel.comms.open(id);\n      // Send a message to notify the kernel that we're ready.\n      channel.send({})\n\n      for await (const message of channel.messages) {\n        // Send a message to notify the kernel that we're ready.\n        channel.send({})\n        if (message.buffers) {\n          for (const buffer of message.buffers) {\n            buffers.push(buffer);\n            downloaded += buffer.byteLength;\n            progress.value = downloaded;\n          }\n        }\n      }\n      const blob = new Blob(buffers, {type: 'application/binary'});\n      const a = document.createElement('a');\n      a.href = window.URL.createObjectURL(blob);\n      a.download = filename;\n      div.appendChild(a);\n      a.click();\n      div.remove();\n    }\n  ",
            "text/plain": [
              "<IPython.core.display.Javascript object>"
            ]
          },
          "metadata": {},
          "output_type": "display_data"
        },
        {
          "data": {
            "application/javascript": "download(\"download_016ef441-70f9-475f-a423-2cc5040dae22\", \"target_token_index.json\", 1205)",
            "text/plain": [
              "<IPython.core.display.Javascript object>"
            ]
          },
          "metadata": {},
          "output_type": "display_data"
        },
        {
          "data": {
            "application/javascript": "\n    async function download(id, filename, size) {\n      if (!google.colab.kernel.accessAllowed) {\n        return;\n      }\n      const div = document.createElement('div');\n      const label = document.createElement('label');\n      label.textContent = `Downloading \"${filename}\": `;\n      div.appendChild(label);\n      const progress = document.createElement('progress');\n      progress.max = size;\n      div.appendChild(progress);\n      document.body.appendChild(div);\n\n      const buffers = [];\n      let downloaded = 0;\n\n      const channel = await google.colab.kernel.comms.open(id);\n      // Send a message to notify the kernel that we're ready.\n      channel.send({})\n\n      for await (const message of channel.messages) {\n        // Send a message to notify the kernel that we're ready.\n        channel.send({})\n        if (message.buffers) {\n          for (const buffer of message.buffers) {\n            buffers.push(buffer);\n            downloaded += buffer.byteLength;\n            progress.value = downloaded;\n          }\n        }\n      }\n      const blob = new Blob(buffers, {type: 'application/binary'});\n      const a = document.createElement('a');\n      a.href = window.URL.createObjectURL(blob);\n      a.download = filename;\n      div.appendChild(a);\n      a.click();\n      div.remove();\n    }\n  ",
            "text/plain": [
              "<IPython.core.display.Javascript object>"
            ]
          },
          "metadata": {},
          "output_type": "display_data"
        },
        {
          "data": {
            "application/javascript": "download(\"download_ddfbca5f-1ddc-4aa9-b91d-2e129fdc261c\", \"input_token_index.json\", 1731)",
            "text/plain": [
              "<IPython.core.display.Javascript object>"
            ]
          },
          "metadata": {},
          "output_type": "display_data"
        }
      ],
      "source": [
        "import json\n",
        "\n",
        "#with open('reverse_input_char_index.json', 'w') as fp:\n",
        "#    json.dump(reverse_input_char_index, fp)\n",
        "\n",
        "#with open('reverse_target_char_index.json', 'w') as fp:\n",
        "#    json.dump(reverse_target_char_index, fp)\n",
        "\n",
        "with open('input_token_index.json', 'w') as fp:\n",
        "    json.dump(input_token_index, fp)\n",
        "\n",
        "with open('target_token_index.json', 'w') as fp:\n",
        "    json.dump(target_token_index, fp)\n",
        "\n",
        "files.download('target_token_index.json')\n",
        "files.download('input_token_index.json')\n",
        "\n",
        "#loaded_r = json.loads(r)"
      ]
    },
    {
      "cell_type": "code",
      "execution_count": null,
      "id": "nKNnC_0bUAox",
      "metadata": {
        "colab": {
          "base_uri": "https://localhost:8080/",
          "height": 301
        },
        "id": "nKNnC_0bUAox",
        "outputId": "b06b62ac-c31b-4d91-970f-ebc5546972ef"
      },
      "outputs": [
        {
          "data": {
            "image/png": "[encoded data removed]",
            "text/plain": [
              "<IPython.core.display.Image object>"
            ]
          },
          "execution_count": 18,
          "metadata": {},
          "output_type": "execute_result"
        }
      ],
      "source": [
        "from tensorflow.keras.utils import plot_model\n",
        "\n",
        "de = DeepEnsemble(no_models=5, threshold=0.8)\n",
        "callbacks = [\n",
        "    EarlyStopping(monitor='val_accuracy', patience=5)\n",
        "]\n",
        "\n",
        "plot_model(de.models[0][0], show_shapes=True, to_file='model.png')\n",
        "plot_model(de.models[0][1], show_shapes=True, to_file='encoder.png')\n",
        "plot_model(de.models[0][2], show_shapes=True, to_file='decoder.png')"
      ]
    },
    {
      "cell_type": "code",
      "execution_count": null,
      "id": "33808cd9-97f7-4562-b300-72d3fc6a6672",
      "metadata": {
        "id": "33808cd9-97f7-4562-b300-72d3fc6a6672",
        "tags": []
      },
      "outputs": [],
      "source": [
        "de = DeepEnsemble(no_models=5, threshold=0.8)\n",
        "callbacks = [\n",
        "    EarlyStopping(monitor='val_accuracy', patience=5)\n",
        "]\n",
        "\n",
        "history = de.fit(\n",
        "    x=[encoder_input_data, decoder_input_data],\n",
        "    y=decoder_target_data,\n",
        "    batch_size=batch_size,\n",
        "    epochs=epochs,\n",
        "    validation_split=0.2,\n",
        "    callbacks=callbacks\n",
        ")"
      ]
    },
    {
      "cell_type": "code",
      "execution_count": null,
      "id": "jEG7fQ0oukvT",
      "metadata": {
        "colab": {
          "base_uri": "https://localhost:8080/"
        },
        "id": "jEG7fQ0oukvT",
        "outputId": "48111433-65fc-47e1-fe59-a8f5ff83b471"
      },
      "outputs": [
        {
          "name": "stderr",
          "output_type": "stream",
          "text": [
            "WARNING:absl:Found untraced functions such as lstm_cell_layer_call_fn, lstm_cell_layer_call_and_return_conditional_losses, lstm_cell_1_layer_call_fn, lstm_cell_1_layer_call_and_return_conditional_losses while saving (showing 4 of 4). These functions will not be directly callable after loading.\n",
            "WARNING:absl:<keras.layers.recurrent.LSTMCell object at 0x7f2c306b7890> has the same name 'LSTMCell' as a built-in Keras object. Consider renaming <class 'keras.layers.recurrent.LSTMCell'> to avoid naming conflicts when loading with `tf.keras.models.load_model`. If renaming is not possible, pass the object in the `custom_objects` parameter of the load function.\n",
            "WARNING:absl:<keras.layers.recurrent.LSTMCell object at 0x7f2c20327ed0> has the same name 'LSTMCell' as a built-in Keras object. Consider renaming <class 'keras.layers.recurrent.LSTMCell'> to avoid naming conflicts when loading with `tf.keras.models.load_model`. If renaming is not possible, pass the object in the `custom_objects` parameter of the load function.\n",
            "WARNING:tensorflow:Compiled the loaded model, but the compiled metrics have yet to be built. `model.compile_metrics` will be empty until you train or evaluate the model.\n",
            "WARNING:absl:Found untraced functions such as lstm_cell_layer_call_fn, lstm_cell_layer_call_and_return_conditional_losses while saving (showing 2 of 2). These functions will not be directly callable after loading.\n",
            "WARNING:absl:<keras.layers.recurrent.LSTMCell object at 0x7f2c306b7890> has the same name 'LSTMCell' as a built-in Keras object. Consider renaming <class 'keras.layers.recurrent.LSTMCell'> to avoid naming conflicts when loading with `tf.keras.models.load_model`. If renaming is not possible, pass the object in the `custom_objects` parameter of the load function.\n",
            "WARNING:tensorflow:Compiled the loaded model, but the compiled metrics have yet to be built. `model.compile_metrics` will be empty until you train or evaluate the model.\n",
            "WARNING:absl:Found untraced functions such as lstm_cell_1_layer_call_fn, lstm_cell_1_layer_call_and_return_conditional_losses while saving (showing 2 of 2). These functions will not be directly callable after loading.\n",
            "WARNING:absl:<keras.layers.recurrent.LSTMCell object at 0x7f2c20327ed0> has the same name 'LSTMCell' as a built-in Keras object. Consider renaming <class 'keras.layers.recurrent.LSTMCell'> to avoid naming conflicts when loading with `tf.keras.models.load_model`. If renaming is not possible, pass the object in the `custom_objects` parameter of the load function.\n",
            "WARNING:absl:Found untraced functions such as lstm_cell_2_layer_call_fn, lstm_cell_2_layer_call_and_return_conditional_losses, lstm_cell_3_layer_call_fn, lstm_cell_3_layer_call_and_return_conditional_losses while saving (showing 4 of 4). These functions will not be directly callable after loading.\n",
            "WARNING:absl:<keras.layers.recurrent.LSTMCell object at 0x7f2c20045090> has the same name 'LSTMCell' as a built-in Keras object. Consider renaming <class 'keras.layers.recurrent.LSTMCell'> to avoid naming conflicts when loading with `tf.keras.models.load_model`. If renaming is not possible, pass the object in the `custom_objects` parameter of the load function.\n",
            "WARNING:absl:<keras.layers.recurrent.LSTMCell object at 0x7f2c20053410> has the same name 'LSTMCell' as a built-in Keras object. Consider renaming <class 'keras.layers.recurrent.LSTMCell'> to avoid naming conflicts when loading with `tf.keras.models.load_model`. If renaming is not possible, pass the object in the `custom_objects` parameter of the load function.\n",
            "WARNING:tensorflow:Compiled the loaded model, but the compiled metrics have yet to be built. `model.compile_metrics` will be empty until you train or evaluate the model.\n",
            "WARNING:absl:Found untraced functions such as lstm_cell_2_layer_call_fn, lstm_cell_2_layer_call_and_return_conditional_losses while saving (showing 2 of 2). These functions will not be directly callable after loading.\n",
            "WARNING:absl:<keras.layers.recurrent.LSTMCell object at 0x7f2c20045090> has the same name 'LSTMCell' as a built-in Keras object. Consider renaming <class 'keras.layers.recurrent.LSTMCell'> to avoid naming conflicts when loading with `tf.keras.models.load_model`. If renaming is not possible, pass the object in the `custom_objects` parameter of the load function.\n",
            "WARNING:tensorflow:Compiled the loaded model, but the compiled metrics have yet to be built. `model.compile_metrics` will be empty until you train or evaluate the model.\n",
            "WARNING:absl:Found untraced functions such as lstm_cell_3_layer_call_fn, lstm_cell_3_layer_call_and_return_conditional_losses while saving (showing 2 of 2). These functions will not be directly callable after loading.\n",
            "WARNING:absl:<keras.layers.recurrent.LSTMCell object at 0x7f2c20053410> has the same name 'LSTMCell' as a built-in Keras object. Consider renaming <class 'keras.layers.recurrent.LSTMCell'> to avoid naming conflicts when loading with `tf.keras.models.load_model`. If renaming is not possible, pass the object in the `custom_objects` parameter of the load function.\n",
            "WARNING:absl:Found untraced functions such as lstm_cell_4_layer_call_fn, lstm_cell_4_layer_call_and_return_conditional_losses, lstm_cell_5_layer_call_fn, lstm_cell_5_layer_call_and_return_conditional_losses while saving (showing 4 of 4). These functions will not be directly callable after loading.\n",
            "WARNING:absl:<keras.layers.recurrent.LSTMCell object at 0x7f2bb21791d0> has the same name 'LSTMCell' as a built-in Keras object. Consider renaming <class 'keras.layers.recurrent.LSTMCell'> to avoid naming conflicts when loading with `tf.keras.models.load_model`. If renaming is not possible, pass the object in the `custom_objects` parameter of the load function.\n",
            "WARNING:absl:<keras.layers.recurrent.LSTMCell object at 0x7f2bb2171a10> has the same name 'LSTMCell' as a built-in Keras object. Consider renaming <class 'keras.layers.recurrent.LSTMCell'> to avoid naming conflicts when loading with `tf.keras.models.load_model`. If renaming is not possible, pass the object in the `custom_objects` parameter of the load function.\n",
            "WARNING:tensorflow:Compiled the loaded model, but the compiled metrics have yet to be built. `model.compile_metrics` will be empty until you train or evaluate the model.\n",
            "WARNING:absl:Found untraced functions such as lstm_cell_4_layer_call_fn, lstm_cell_4_layer_call_and_return_conditional_losses while saving (showing 2 of 2). These functions will not be directly callable after loading.\n",
            "WARNING:absl:<keras.layers.recurrent.LSTMCell object at 0x7f2bb21791d0> has the same name 'LSTMCell' as a built-in Keras object. Consider renaming <class 'keras.layers.recurrent.LSTMCell'> to avoid naming conflicts when loading with `tf.keras.models.load_model`. If renaming is not possible, pass the object in the `custom_objects` parameter of the load function.\n",
            "WARNING:tensorflow:Compiled the loaded model, but the compiled metrics have yet to be built. `model.compile_metrics` will be empty until you train or evaluate the model.\n",
            "WARNING:absl:Found untraced functions such as lstm_cell_5_layer_call_fn, lstm_cell_5_layer_call_and_return_conditional_losses while saving (showing 2 of 2). These functions will not be directly callable after loading.\n",
            "WARNING:absl:<keras.layers.recurrent.LSTMCell object at 0x7f2bb2171a10> has the same name 'LSTMCell' as a built-in Keras object. Consider renaming <class 'keras.layers.recurrent.LSTMCell'> to avoid naming conflicts when loading with `tf.keras.models.load_model`. If renaming is not possible, pass the object in the `custom_objects` parameter of the load function.\n",
            "WARNING:absl:Found untraced functions such as lstm_cell_6_layer_call_fn, lstm_cell_6_layer_call_and_return_conditional_losses, lstm_cell_7_layer_call_fn, lstm_cell_7_layer_call_and_return_conditional_losses while saving (showing 4 of 4). These functions will not be directly callable after loading.\n",
            "WARNING:absl:<keras.layers.recurrent.LSTMCell object at 0x7f2bb20a8390> has the same name 'LSTMCell' as a built-in Keras object. Consider renaming <class 'keras.layers.recurrent.LSTMCell'> to avoid naming conflicts when loading with `tf.keras.models.load_model`. If renaming is not possible, pass the object in the `custom_objects` parameter of the load function.\n",
            "WARNING:absl:<keras.layers.recurrent.LSTMCell object at 0x7f2bb20e1b10> has the same name 'LSTMCell' as a built-in Keras object. Consider renaming <class 'keras.layers.recurrent.LSTMCell'> to avoid naming conflicts when loading with `tf.keras.models.load_model`. If renaming is not possible, pass the object in the `custom_objects` parameter of the load function.\n",
            "WARNING:tensorflow:Compiled the loaded model, but the compiled metrics have yet to be built. `model.compile_metrics` will be empty until you train or evaluate the model.\n",
            "WARNING:absl:Found untraced functions such as lstm_cell_6_layer_call_fn, lstm_cell_6_layer_call_and_return_conditional_losses while saving (showing 2 of 2). These functions will not be directly callable after loading.\n",
            "WARNING:absl:<keras.layers.recurrent.LSTMCell object at 0x7f2bb20a8390> has the same name 'LSTMCell' as a built-in Keras object. Consider renaming <class 'keras.layers.recurrent.LSTMCell'> to avoid naming conflicts when loading with `tf.keras.models.load_model`. If renaming is not possible, pass the object in the `custom_objects` parameter of the load function.\n",
            "WARNING:tensorflow:Compiled the loaded model, but the compiled metrics have yet to be built. `model.compile_metrics` will be empty until you train or evaluate the model.\n",
            "WARNING:absl:Found untraced functions such as lstm_cell_7_layer_call_fn, lstm_cell_7_layer_call_and_return_conditional_losses while saving (showing 2 of 2). These functions will not be directly callable after loading.\n",
            "WARNING:absl:<keras.layers.recurrent.LSTMCell object at 0x7f2bb20e1b10> has the same name 'LSTMCell' as a built-in Keras object. Consider renaming <class 'keras.layers.recurrent.LSTMCell'> to avoid naming conflicts when loading with `tf.keras.models.load_model`. If renaming is not possible, pass the object in the `custom_objects` parameter of the load function.\n",
            "WARNING:absl:Found untraced functions such as lstm_cell_8_layer_call_fn, lstm_cell_8_layer_call_and_return_conditional_losses, lstm_cell_9_layer_call_fn, lstm_cell_9_layer_call_and_return_conditional_losses while saving (showing 4 of 4). These functions will not be directly callable after loading.\n",
            "WARNING:absl:<keras.layers.recurrent.LSTMCell object at 0x7f2c2fde9d90> has the same name 'LSTMCell' as a built-in Keras object. Consider renaming <class 'keras.layers.recurrent.LSTMCell'> to avoid naming conflicts when loading with `tf.keras.models.load_model`. If renaming is not possible, pass the object in the `custom_objects` parameter of the load function.\n",
            "WARNING:absl:<keras.layers.recurrent.LSTMCell object at 0x7f2c2020dad0> has the same name 'LSTMCell' as a built-in Keras object. Consider renaming <class 'keras.layers.recurrent.LSTMCell'> to avoid naming conflicts when loading with `tf.keras.models.load_model`. If renaming is not possible, pass the object in the `custom_objects` parameter of the load function.\n",
            "WARNING:tensorflow:Compiled the loaded model, but the compiled metrics have yet to be built. `model.compile_metrics` will be empty until you train or evaluate the model.\n",
            "WARNING:absl:Found untraced functions such as lstm_cell_8_layer_call_fn, lstm_cell_8_layer_call_and_return_conditional_losses while saving (showing 2 of 2). These functions will not be directly callable after loading.\n",
            "WARNING:absl:<keras.layers.recurrent.LSTMCell object at 0x7f2c2fde9d90> has the same name 'LSTMCell' as a built-in Keras object. Consider renaming <class 'keras.layers.recurrent.LSTMCell'> to avoid naming conflicts when loading with `tf.keras.models.load_model`. If renaming is not possible, pass the object in the `custom_objects` parameter of the load function.\n",
            "WARNING:tensorflow:Compiled the loaded model, but the compiled metrics have yet to be built. `model.compile_metrics` will be empty until you train or evaluate the model.\n",
            "WARNING:absl:Found untraced functions such as lstm_cell_9_layer_call_fn, lstm_cell_9_layer_call_and_return_conditional_losses while saving (showing 2 of 2). These functions will not be directly callable after loading.\n",
            "WARNING:absl:<keras.layers.recurrent.LSTMCell object at 0x7f2c2020dad0> has the same name 'LSTMCell' as a built-in Keras object. Consider renaming <class 'keras.layers.recurrent.LSTMCell'> to avoid naming conflicts when loading with `tf.keras.models.load_model`. If renaming is not possible, pass the object in the `custom_objects` parameter of the load function.\n"
          ]
        }
      ],
      "source": [
        "save_path = \"drive/MyDrive/ailab/spell_correction/models/DE_v3\"\n",
        "if not os.path.exists(save_path):\n",
        "    de.save(\"drive/MyDrive/ailab/spell_correction/models/DE_v3\")"
      ]
    },
    {
      "cell_type": "markdown",
      "id": "HazayGan3fey",
      "metadata": {
        "id": "HazayGan3fey"
      },
      "source": [
        "## Load the model"
      ]
    },
    {
      "cell_type": "code",
      "execution_count": null,
      "id": "BqMkgCq1RuwA",
      "metadata": {
        "colab": {
          "base_uri": "https://localhost:8080/"
        },
        "id": "BqMkgCq1RuwA",
        "outputId": "dccd4dbe-832f-4bab-ed60-08115304dfe5"
      },
      "outputs": [
        {
          "name": "stdout",
          "output_type": "stream",
          "text": [
            "[('drive/MyDrive/DE_v3_', ['model_5', 'model_2', 'model_3', 'model_1', 'model_4'], []), ('drive/MyDrive/DE_v3_/model_5', ['encoder', 'decoder', 'training'], []), ('drive/MyDrive/DE_v3_/model_5/encoder', ['variables'], ['keras_metadata.pb', 'saved_model.pb']), ('drive/MyDrive/DE_v3_/model_5/encoder/variables', [], ['variables.index', 'variables.data-00000-of-00001']), ('drive/MyDrive/DE_v3_/model_5/decoder', ['variables'], ['saved_model.pb', 'keras_metadata.pb']), ('drive/MyDrive/DE_v3_/model_5/decoder/variables', [], ['variables.data-00000-of-00001', 'variables.index']), ('drive/MyDrive/DE_v3_/model_5/training', ['variables'], ['keras_metadata.pb', 'saved_model.pb']), ('drive/MyDrive/DE_v3_/model_5/training/variables', [], ['variables.index', 'variables.data-00000-of-00001']), ('drive/MyDrive/DE_v3_/model_2', ['training', 'decoder', 'encoder'], []), ('drive/MyDrive/DE_v3_/model_2/training', ['variables'], ['keras_metadata.pb', 'saved_model.pb']), ('drive/MyDrive/DE_v3_/model_2/training/variables', [], ['variables.index', 'variables.data-00000-of-00001']), ('drive/MyDrive/DE_v3_/model_2/decoder', ['variables'], ['keras_metadata.pb', 'saved_model.pb']), ('drive/MyDrive/DE_v3_/model_2/decoder/variables', [], ['variables.index', 'variables.data-00000-of-00001']), ('drive/MyDrive/DE_v3_/model_2/encoder', ['variables'], ['keras_metadata.pb', 'saved_model.pb']), ('drive/MyDrive/DE_v3_/model_2/encoder/variables', [], ['variables.index', 'variables.data-00000-of-00001']), ('drive/MyDrive/DE_v3_/model_3', ['training', 'decoder', 'encoder'], []), ('drive/MyDrive/DE_v3_/model_3/training', ['variables'], ['keras_metadata.pb', 'saved_model.pb']), ('drive/MyDrive/DE_v3_/model_3/training/variables', [], ['variables.index', 'variables.data-00000-of-00001']), ('drive/MyDrive/DE_v3_/model_3/decoder', ['variables'], ['saved_model.pb', 'keras_metadata.pb']), ('drive/MyDrive/DE_v3_/model_3/decoder/variables', [], ['variables.index', 'variables.data-00000-of-00001']), ('drive/MyDrive/DE_v3_/model_3/encoder', ['variables'], ['saved_model.pb', 'keras_metadata.pb']), ('drive/MyDrive/DE_v3_/model_3/encoder/variables', [], ['variables.index', 'variables.data-00000-of-00001']), ('drive/MyDrive/DE_v3_/model_1', ['decoder', 'encoder', 'training'], []), ('drive/MyDrive/DE_v3_/model_1/decoder', ['variables'], ['keras_metadata.pb', 'saved_model.pb']), ('drive/MyDrive/DE_v3_/model_1/decoder/variables', [], ['variables.data-00000-of-00001', 'variables.index']), ('drive/MyDrive/DE_v3_/model_1/encoder', ['variables'], ['keras_metadata.pb', 'saved_model.pb']), ('drive/MyDrive/DE_v3_/model_1/encoder/variables', [], ['variables.data-00000-of-00001', 'variables.index']), ('drive/MyDrive/DE_v3_/model_1/training', ['variables'], ['keras_metadata.pb', 'saved_model.pb']), ('drive/MyDrive/DE_v3_/model_1/training/variables', [], ['variables.index', 'variables.data-00000-of-00001']), ('drive/MyDrive/DE_v3_/model_4', ['decoder', 'encoder', 'training'], []), ('drive/MyDrive/DE_v3_/model_4/decoder', ['variables'], ['saved_model.pb', 'keras_metadata.pb']), ('drive/MyDrive/DE_v3_/model_4/decoder/variables', [], ['variables.index', 'variables.data-00000-of-00001']), ('drive/MyDrive/DE_v3_/model_4/encoder', ['variables'], ['keras_metadata.pb', 'saved_model.pb']), ('drive/MyDrive/DE_v3_/model_4/encoder/variables', [], ['variables.index', 'variables.data-00000-of-00001']), ('drive/MyDrive/DE_v3_/model_4/training', ['variables'], ['keras_metadata.pb', 'saved_model.pb']), ('drive/MyDrive/DE_v3_/model_4/training/variables', [], ['variables.data-00000-of-00001', 'variables.index'])]\n"
          ]
        },
        {
          "name": "stderr",
          "output_type": "stream",
          "text": [
            "WARNING:tensorflow:No training configuration found in save file, so the model was *not* compiled. Compile it manually.\n",
            "WARNING:tensorflow:No training configuration found in save file, so the model was *not* compiled. Compile it manually.\n",
            "WARNING:tensorflow:No training configuration found in save file, so the model was *not* compiled. Compile it manually.\n",
            "WARNING:tensorflow:No training configuration found in save file, so the model was *not* compiled. Compile it manually.\n",
            "WARNING:tensorflow:No training configuration found in save file, so the model was *not* compiled. Compile it manually.\n",
            "WARNING:tensorflow:No training configuration found in save file, so the model was *not* compiled. Compile it manually.\n",
            "WARNING:tensorflow:No training configuration found in save file, so the model was *not* compiled. Compile it manually.\n",
            "WARNING:tensorflow:No training configuration found in save file, so the model was *not* compiled. Compile it manually.\n",
            "WARNING:tensorflow:No training configuration found in save file, so the model was *not* compiled. Compile it manually.\n",
            "WARNING:tensorflow:No training configuration found in save file, so the model was *not* compiled. Compile it manually.\n"
          ]
        }
      ],
      "source": [
        "load_path = \"drive/MyDrive/DE_v3_\"\n",
        "myde = DeepEnsemble.load_from_dir(load_path)"
      ]
    },
    {
      "cell_type": "code",
      "execution_count": null,
      "id": "7vraArTM9BC6",
      "metadata": {
        "id": "7vraArTM9BC6"
      },
      "outputs": [],
      "source": [
        "myde.no_models=3\n",
        "myde.models = myde.models[:3]\n",
        "myde.threshold = 0.66"
      ]
    },
    {
      "cell_type": "code",
      "execution_count": null,
      "id": "vdGSVdnbHkKH",
      "metadata": {
        "colab": {
          "base_uri": "https://localhost:8080/",
          "height": 35
        },
        "id": "vdGSVdnbHkKH",
        "outputId": "64e6d151-0c48-4d3e-e765-7215b1fbad4a"
      },
      "outputs": [
        {
          "data": {
            "application/vnd.google.colaboratory.intrinsic+json": {
              "type": "string"
            },
            "text/plain": [
              "'getdim\\n'"
            ]
          },
          "execution_count": 13,
          "metadata": {},
          "output_type": "execute_result"
        }
      ],
      "source": [
        "myde.predict(\"getdim\")"
      ]
    },
    {
      "cell_type": "code",
      "execution_count": null,
      "id": "d7d19e20-1596-4a8b-acdd-00cc2633d8c2",
      "metadata": {
        "colab": {
          "base_uri": "https://localhost:8080/"
        },
        "id": "d7d19e20-1596-4a8b-acdd-00cc2633d8c2",
        "outputId": "5b29be82-c94f-4580-a2ac-f6d3bb2c34f0"
      },
      "outputs": [
        {
          "name": "stderr",
          "output_type": "stream",
          "text": [
            "/usr/local/lib/python3.7/dist-packages/pandas/util/_decorators.py:311: SettingWithCopyWarning: \n",
            "A value is trying to be set on a copy of a slice from a DataFrame\n",
            "\n",
            "See the caveats in the documentation: https://pandas.pydata.org/pandas-docs/stable/user_guide/indexing.html#returning-a-view-versus-a-copy\n",
            "  return func(*args, **kwargs)\n"
          ]
        },
        {
          "name": "stdout",
          "output_type": "stream",
          "text": [
            "0\n",
            "25\n",
            "50\n",
            "75\n",
            "100\n",
            "125\n",
            "150\n",
            "175\n",
            "200\n",
            "225\n",
            "250\n",
            "275\n",
            "300\n",
            "325\n",
            "350\n",
            "375\n",
            "400\n",
            "425\n",
            "450\n",
            "475\n",
            "500\n",
            "525\n",
            "550\n",
            "575\n",
            "600\n",
            "625\n",
            "650\n",
            "675\n",
            "700\n",
            "725\n",
            "750\n",
            "775\n",
            "800\n",
            "825\n",
            "850\n",
            "875\n",
            "900\n",
            "925\n",
            "950\n"
          ]
        }
      ],
      "source": [
        "chars = reverse_target_char_index.values()\n",
        "val_data.dropna(inplace=True)\n",
        "val_data = val_data[val_data[\"text\"].apply(lambda s: all(c in chars for c in s))]\n",
        "val_data = val_data[val_data['text'].str.len() <= model_data['text'].str.len().max()]\n",
        "output = []\n",
        "start = time.time()\n",
        "for i, row in enumerate(val_data[\"text\"]):\n",
        "    pred = myde.predict(row)\n",
        "    output.append(pred.strip(' \\n\\r\\t'))\n",
        "    if i % 25 == 0:\n",
        "      print(i)\n",
        "\n",
        "end = time.time()\n",
        "duration = end - start\n",
        "val_data['prediction'] = output"
      ]
    },
    {
      "cell_type": "code",
      "execution_count": null,
      "id": "4dbeadf4-a8e5-4ef0-8b5c-8ee9f02c08a3",
      "metadata": {
        "id": "4dbeadf4-a8e5-4ef0-8b5c-8ee9f02c08a3"
      },
      "outputs": [],
      "source": [
        "def levenshteinDistanceDP(token1, token2):\n",
        "    distances = np.zeros((len(token1) + 1, len(token2) + 1))\n",
        "\n",
        "    for t1 in range(len(token1) + 1):\n",
        "        distances[t1][0] = t1\n",
        "\n",
        "    for t2 in range(len(token2) + 1):\n",
        "        distances[0][t2] = t2\n",
        "\n",
        "    a = 0\n",
        "    b = 0\n",
        "    c = 0\n",
        "\n",
        "    for t1 in range(1, len(token1) + 1):\n",
        "        for t2 in range(1, len(token2) + 1):\n",
        "            if (token1[t1-1] == token2[t2-1]):\n",
        "                distances[t1][t2] = distances[t1 - 1][t2 - 1]\n",
        "            else:\n",
        "                a = distances[t1][t2 - 1]\n",
        "                b = distances[t1 - 1][t2]\n",
        "                c = distances[t1 - 1][t2 - 1]\n",
        "\n",
        "                if (a <= b and a <= c):\n",
        "                    distances[t1][t2] = a + 1\n",
        "                elif (b <= a and b <= c):\n",
        "                    distances[t1][t2] = b + 1\n",
        "                else:\n",
        "                    distances[t1][t2] = c + 1\n",
        "\n",
        "    return distances[len(token1)][len(token2)]"
      ]
    },
    {
      "cell_type": "code",
      "execution_count": null,
      "id": "c8088001-a302-41a4-8969-5bddceec0b67",
      "metadata": {
        "id": "c8088001-a302-41a4-8969-5bddceec0b67"
      },
      "outputs": [],
      "source": [
        "def plot(data):\n",
        "  data['distance']=[levenshteinDistanceDP(i, t) for i,t in zip(list(data['label']), list(data['prediction']))]\n",
        "  data[data['distance']==0].shape[0] /  data.shape[0]\n",
        "  data['org']=[levenshteinDistanceDP(i, t) for i,t in zip(list(data['label']), list(data['text']))]\n",
        "  length = data.shape[0]\n",
        "  org_points = [data[data['org']==0].shape[0] / length, data[data['org']<=1].shape[0] / length, data[data['org']<=2].shape[0] / length, data[data['org']<=3].shape[0] / length]\n",
        "  pred_points = [data[data['distance']==0].shape[0] / length, data[data['distance']<=1].shape[0] / length, data[data['distance']<=2].shape[0] / length, data[data['distance']<=3].shape[0] / length]\n",
        "  print(list(map(lambda x: round(x, 3), org_points)))\n",
        "  print(list(map(lambda x: round(x, 3), pred_points)))\n",
        "  x = range(4)\n",
        "\n",
        "  fig, ax1 = plt.subplots()\n",
        "\n",
        "  ax2 = ax1.twinx()\n",
        "  ax3 = ax2.twinx()\n",
        "  ax1.plot(x, org_points, 'g-')\n",
        "  ax2.plot(x, pred_points, 'b-')\n",
        "  ax3.plot(x, np.array(pred_points) - np.array(org_points), 'r--')\n",
        "\n",
        "  ax1.set_xlabel('X data')\n",
        "  ax1.set_ylabel('Y1 data', color='g')\n",
        "  ax2.set_ylabel('Y2 data', color='b')\n",
        "  ax3.set_ylabel('Y3 data', color='r')\n",
        "\n",
        "  ax1.set_ylim(0, 1)\n",
        "  ax2.set_ylim(0, 1)\n",
        "  ax3.set_ylim(0, 1)\n",
        "\n",
        "  plt.show()"
      ]
    },
    {
      "cell_type": "code",
      "execution_count": null,
      "id": "7c274c89-c063-4a6c-9aa3-78bd4bc42869",
      "metadata": {
        "colab": {
          "base_uri": "https://localhost:8080/",
          "height": 318
        },
        "id": "7c274c89-c063-4a6c-9aa3-78bd4bc42869",
        "outputId": "595759d7-6711-454c-b692-4072b2095025"
      },
      "outputs": [
        {
          "name": "stdout",
          "output_type": "stream",
          "text": [
            "[0.6, 0.831, 0.926, 0.976]\n",
            "[0.856, 0.96, 0.978, 0.992]\n"
          ]
        },
        {
          "data": {
            "image/png": "[encoded data removed]",
            "text/plain": [
              "<Figure size 432x288 with 3 Axes>"
            ]
          },
          "metadata": {
            "needs_background": "light"
          },
          "output_type": "display_data"
        }
      ],
      "source": [
        "plot(val_data)"
      ]
    },
    {
      "cell_type": "code",
      "execution_count": null,
      "id": "G2YNha3h8Mjb",
      "metadata": {
        "id": "G2YNha3h8Mjb"
      },
      "outputs": [],
      "source": [
        "avg = (end - start) / len(val_data[\"text\"])"
      ]
    },
    {
      "cell_type": "code",
      "execution_count": null,
      "id": "ohENZbPmGyw-",
      "metadata": {
        "id": "ohENZbPmGyw-"
      },
      "outputs": [],
      "source": [
        "avg_char = avg / val_data[\"text\"].str.len().mean()"
      ]
    },
    {
      "cell_type": "code",
      "execution_count": null,
      "id": "EnaSLxmjb2OE",
      "metadata": {
        "colab": {
          "base_uri": "https://localhost:8080/"
        },
        "id": "EnaSLxmjb2OE",
        "outputId": "2a0c0293-ecec-4c5f-efa7-d210e227c274"
      },
      "outputs": [
        {
          "name": "stdout",
          "output_type": "stream",
          "text": [
            "0.9248637672294135 0.1230014114854687\n"
          ]
        }
      ],
      "source": [
        "print(avg, avg_char)"
      ]
    },
    {
      "cell_type": "code",
      "execution_count": null,
      "id": "GkwLyMMOGbO7",
      "metadata": {
        "id": "GkwLyMMOGbO7"
      },
      "outputs": [],
      "source": [
        "val_0_dif = val_data[val_data[\"org\"] == 0]\n",
        "val_1_dif = val_data[val_data[\"org\"] == 1]\n",
        "val_2_dif = val_data[val_data[\"org\"] == 2]\n",
        "val_3_dif = val_data[val_data[\"org\"] >= 3]"
      ]
    },
    {
      "cell_type": "code",
      "execution_count": null,
      "id": "bVt38aWGTRKX",
      "metadata": {
        "colab": {
          "base_uri": "https://localhost:8080/",
          "height": 1000
        },
        "id": "bVt38aWGTRKX",
        "outputId": "75723c6d-0fa2-49a0-dbdb-1ded88d5fd38"
      },
      "outputs": [
        {
          "name": "stderr",
          "output_type": "stream",
          "text": [
            "/usr/local/lib/python3.7/dist-packages/ipykernel_launcher.py:2: SettingWithCopyWarning: \n",
            "A value is trying to be set on a copy of a slice from a DataFrame.\n",
            "Try using .loc[row_indexer,col_indexer] = value instead\n",
            "\n",
            "See the caveats in the documentation: https://pandas.pydata.org/pandas-docs/stable/user_guide/indexing.html#returning-a-view-versus-a-copy\n",
            "  \n",
            "/usr/local/lib/python3.7/dist-packages/ipykernel_launcher.py:4: SettingWithCopyWarning: \n",
            "A value is trying to be set on a copy of a slice from a DataFrame.\n",
            "Try using .loc[row_indexer,col_indexer] = value instead\n",
            "\n",
            "See the caveats in the documentation: https://pandas.pydata.org/pandas-docs/stable/user_guide/indexing.html#returning-a-view-versus-a-copy\n",
            "  after removing the cwd from sys.path.\n"
          ]
        },
        {
          "name": "stdout",
          "output_type": "stream",
          "text": [
            "[1.0, 1.0, 1.0, 1.0]\n",
            "[0.941, 0.993, 1.0, 1.0]\n"
          ]
        },
        {
          "data": {
            "image/png": "[encoded data removed]",
            "text/plain": [
              "<Figure size 432x288 with 3 Axes>"
            ]
          },
          "metadata": {
            "needs_background": "light"
          },
          "output_type": "display_data"
        },
        {
          "name": "stderr",
          "output_type": "stream",
          "text": [
            "/usr/local/lib/python3.7/dist-packages/ipykernel_launcher.py:2: SettingWithCopyWarning: \n",
            "A value is trying to be set on a copy of a slice from a DataFrame.\n",
            "Try using .loc[row_indexer,col_indexer] = value instead\n",
            "\n",
            "See the caveats in the documentation: https://pandas.pydata.org/pandas-docs/stable/user_guide/indexing.html#returning-a-view-versus-a-copy\n",
            "  \n",
            "/usr/local/lib/python3.7/dist-packages/ipykernel_launcher.py:4: SettingWithCopyWarning: \n",
            "A value is trying to be set on a copy of a slice from a DataFrame.\n",
            "Try using .loc[row_indexer,col_indexer] = value instead\n",
            "\n",
            "See the caveats in the documentation: https://pandas.pydata.org/pandas-docs/stable/user_guide/indexing.html#returning-a-view-versus-a-copy\n",
            "  after removing the cwd from sys.path.\n"
          ]
        },
        {
          "name": "stdout",
          "output_type": "stream",
          "text": [
            "[0.0, 1.0, 1.0, 1.0]\n",
            "[0.763, 0.978, 1.0, 1.0]\n"
          ]
        },
        {
          "data": {
            "image/png": "[encoded data removed]",
            "text/plain": [
              "<Figure size 432x288 with 3 Axes>"
            ]
          },
          "metadata": {
            "needs_background": "light"
          },
          "output_type": "display_data"
        },
        {
          "name": "stderr",
          "output_type": "stream",
          "text": [
            "/usr/local/lib/python3.7/dist-packages/ipykernel_launcher.py:2: SettingWithCopyWarning: \n",
            "A value is trying to be set on a copy of a slice from a DataFrame.\n",
            "Try using .loc[row_indexer,col_indexer] = value instead\n",
            "\n",
            "See the caveats in the documentation: https://pandas.pydata.org/pandas-docs/stable/user_guide/indexing.html#returning-a-view-versus-a-copy\n",
            "  \n",
            "/usr/local/lib/python3.7/dist-packages/ipykernel_launcher.py:4: SettingWithCopyWarning: \n",
            "A value is trying to be set on a copy of a slice from a DataFrame.\n",
            "Try using .loc[row_indexer,col_indexer] = value instead\n",
            "\n",
            "See the caveats in the documentation: https://pandas.pydata.org/pandas-docs/stable/user_guide/indexing.html#returning-a-view-versus-a-copy\n",
            "  after removing the cwd from sys.path.\n"
          ]
        },
        {
          "name": "stdout",
          "output_type": "stream",
          "text": [
            "[0.0, 0.0, 1.0, 1.0]\n",
            "[0.747, 0.89, 0.989, 1.0]\n"
          ]
        },
        {
          "data": {
            "image/png": "[encoded data removed]",
            "text/plain": [
              "<Figure size 432x288 with 3 Axes>"
            ]
          },
          "metadata": {
            "needs_background": "light"
          },
          "output_type": "display_data"
        },
        {
          "name": "stderr",
          "output_type": "stream",
          "text": [
            "/usr/local/lib/python3.7/dist-packages/ipykernel_launcher.py:2: SettingWithCopyWarning: \n",
            "A value is trying to be set on a copy of a slice from a DataFrame.\n",
            "Try using .loc[row_indexer,col_indexer] = value instead\n",
            "\n",
            "See the caveats in the documentation: https://pandas.pydata.org/pandas-docs/stable/user_guide/indexing.html#returning-a-view-versus-a-copy\n",
            "  \n",
            "/usr/local/lib/python3.7/dist-packages/ipykernel_launcher.py:4: SettingWithCopyWarning: \n",
            "A value is trying to be set on a copy of a slice from a DataFrame.\n",
            "Try using .loc[row_indexer,col_indexer] = value instead\n",
            "\n",
            "See the caveats in the documentation: https://pandas.pydata.org/pandas-docs/stable/user_guide/indexing.html#returning-a-view-versus-a-copy\n",
            "  after removing the cwd from sys.path.\n"
          ]
        },
        {
          "name": "stdout",
          "output_type": "stream",
          "text": [
            "[0.0, 0.0, 0.0, 0.681]\n",
            "[0.597, 0.722, 0.722, 0.889]\n"
          ]
        },
        {
          "data": {
            "image/png": "[encoded data removed]",
            "text/plain": [
              "<Figure size 432x288 with 3 Axes>"
            ]
          },
          "metadata": {
            "needs_background": "light"
          },
          "output_type": "display_data"
        }
      ],
      "source": [
        "plot(val_0_dif)\n",
        "plot(val_1_dif)\n",
        "plot(val_2_dif)\n",
        "plot(val_3_dif)"
      ]
    },
    {
      "cell_type": "code",
      "execution_count": null,
      "id": "lIa7rw7DTfcH",
      "metadata": {
        "id": "lIa7rw7DTfcH"
      },
      "outputs": [],
      "source": [
        "val_0_5 = val_data[val_data[\"text\"].str.len() < 5]\n",
        "val_5_8 = val_data[(5<=val_data[\"text\"].str.len())&(val_data[\"text\"].str.len()< 9)]\n",
        "val_8_12 = val_data[(9<=val_data[\"text\"].str.len())&(val_data[\"text\"].str.len()< 13)]\n",
        "val_13 = val_data[val_data[\"text\"].str.len() >=13]"
      ]
    },
    {
      "cell_type": "code",
      "execution_count": null,
      "id": "9IN0SmZtVf8p",
      "metadata": {
        "colab": {
          "base_uri": "https://localhost:8080/",
          "height": 1000
        },
        "id": "9IN0SmZtVf8p",
        "outputId": "c9fbe709-a9d9-4ff6-e746-6c82f8d19b91"
      },
      "outputs": [
        {
          "name": "stderr",
          "output_type": "stream",
          "text": [
            "/usr/local/lib/python3.7/dist-packages/ipykernel_launcher.py:2: SettingWithCopyWarning: \n",
            "A value is trying to be set on a copy of a slice from a DataFrame.\n",
            "Try using .loc[row_indexer,col_indexer] = value instead\n",
            "\n",
            "See the caveats in the documentation: https://pandas.pydata.org/pandas-docs/stable/user_guide/indexing.html#returning-a-view-versus-a-copy\n",
            "  \n",
            "/usr/local/lib/python3.7/dist-packages/ipykernel_launcher.py:4: SettingWithCopyWarning: \n",
            "A value is trying to be set on a copy of a slice from a DataFrame.\n",
            "Try using .loc[row_indexer,col_indexer] = value instead\n",
            "\n",
            "See the caveats in the documentation: https://pandas.pydata.org/pandas-docs/stable/user_guide/indexing.html#returning-a-view-versus-a-copy\n",
            "  after removing the cwd from sys.path.\n"
          ]
        },
        {
          "name": "stdout",
          "output_type": "stream",
          "text": [
            "[0.535, 0.837, 0.988, 1.0]\n",
            "[0.884, 0.942, 1.0, 1.0]\n"
          ]
        },
        {
          "data": {
            "image/png": "[encoded data removed]",
            "text/plain": [
              "<Figure size 432x288 with 3 Axes>"
            ]
          },
          "metadata": {
            "needs_background": "light"
          },
          "output_type": "display_data"
        },
        {
          "name": "stderr",
          "output_type": "stream",
          "text": [
            "/usr/local/lib/python3.7/dist-packages/ipykernel_launcher.py:2: SettingWithCopyWarning: \n",
            "A value is trying to be set on a copy of a slice from a DataFrame.\n",
            "Try using .loc[row_indexer,col_indexer] = value instead\n",
            "\n",
            "See the caveats in the documentation: https://pandas.pydata.org/pandas-docs/stable/user_guide/indexing.html#returning-a-view-versus-a-copy\n",
            "  \n",
            "/usr/local/lib/python3.7/dist-packages/ipykernel_launcher.py:4: SettingWithCopyWarning: \n",
            "A value is trying to be set on a copy of a slice from a DataFrame.\n",
            "Try using .loc[row_indexer,col_indexer] = value instead\n",
            "\n",
            "See the caveats in the documentation: https://pandas.pydata.org/pandas-docs/stable/user_guide/indexing.html#returning-a-view-versus-a-copy\n",
            "  after removing the cwd from sys.path.\n"
          ]
        },
        {
          "name": "stdout",
          "output_type": "stream",
          "text": [
            "[0.602, 0.855, 0.943, 0.984]\n",
            "[0.874, 0.972, 0.986, 0.993]\n"
          ]
        },
        {
          "data": {
            "image/png": "[encoded data removed]",
            "text/plain": [
              "<Figure size 432x288 with 3 Axes>"
            ]
          },
          "metadata": {
            "needs_background": "light"
          },
          "output_type": "display_data"
        },
        {
          "name": "stderr",
          "output_type": "stream",
          "text": [
            "/usr/local/lib/python3.7/dist-packages/ipykernel_launcher.py:2: SettingWithCopyWarning: \n",
            "A value is trying to be set on a copy of a slice from a DataFrame.\n",
            "Try using .loc[row_indexer,col_indexer] = value instead\n",
            "\n",
            "See the caveats in the documentation: https://pandas.pydata.org/pandas-docs/stable/user_guide/indexing.html#returning-a-view-versus-a-copy\n",
            "  \n",
            "/usr/local/lib/python3.7/dist-packages/ipykernel_launcher.py:4: SettingWithCopyWarning: \n",
            "A value is trying to be set on a copy of a slice from a DataFrame.\n",
            "Try using .loc[row_indexer,col_indexer] = value instead\n",
            "\n",
            "See the caveats in the documentation: https://pandas.pydata.org/pandas-docs/stable/user_guide/indexing.html#returning-a-view-versus-a-copy\n",
            "  after removing the cwd from sys.path.\n"
          ]
        },
        {
          "name": "stdout",
          "output_type": "stream",
          "text": [
            "[0.623, 0.784, 0.873, 0.951]\n",
            "[0.832, 0.944, 0.959, 0.985]\n"
          ]
        },
        {
          "data": {
            "image/png": "[encoded data removed]",
            "text/plain": [
              "<Figure size 432x288 with 3 Axes>"
            ]
          },
          "metadata": {
            "needs_background": "light"
          },
          "output_type": "display_data"
        },
        {
          "name": "stderr",
          "output_type": "stream",
          "text": [
            "/usr/local/lib/python3.7/dist-packages/ipykernel_launcher.py:2: SettingWithCopyWarning: \n",
            "A value is trying to be set on a copy of a slice from a DataFrame.\n",
            "Try using .loc[row_indexer,col_indexer] = value instead\n",
            "\n",
            "See the caveats in the documentation: https://pandas.pydata.org/pandas-docs/stable/user_guide/indexing.html#returning-a-view-versus-a-copy\n",
            "  \n",
            "/usr/local/lib/python3.7/dist-packages/ipykernel_launcher.py:4: SettingWithCopyWarning: \n",
            "A value is trying to be set on a copy of a slice from a DataFrame.\n",
            "Try using .loc[row_indexer,col_indexer] = value instead\n",
            "\n",
            "See the caveats in the documentation: https://pandas.pydata.org/pandas-docs/stable/user_guide/indexing.html#returning-a-view-versus-a-copy\n",
            "  after removing the cwd from sys.path.\n"
          ]
        },
        {
          "name": "stdout",
          "output_type": "stream",
          "text": [
            "[0.543, 0.8, 0.886, 0.971]\n",
            "[0.686, 0.914, 0.943, 1.0]\n"
          ]
        },
        {
          "data": {
            "image/png": "[encoded data removed]",
            "text/plain": [
              "<Figure size 432x288 with 3 Axes>"
            ]
          },
          "metadata": {
            "needs_background": "light"
          },
          "output_type": "display_data"
        }
      ],
      "source": [
        "plot(val_0_5)\n",
        "plot(val_5_8)\n",
        "plot(val_8_12)\n",
        "plot(val_13)"
      ]
    },
    {
      "cell_type": "code",
      "execution_count": null,
      "id": "A7JFBaktXHUf",
      "metadata": {
        "id": "A7JFBaktXHUf"
      },
      "outputs": [],
      "source": []
    }
  ],
  "metadata": {
    "accelerator": "TPU",
    "colab": {
      "provenance": []
    },
    "gpuClass": "standard",
    "kernelspec": {
      "display_name": "Python 3.10.6 64-bit",
      "language": "python",
      "name": "python3"
    },
    "language_info": {
      "codemirror_mode": {
        "name": "ipython",
        "version": 3
      },
      "file_extension": ".py",
      "mimetype": "text/x-python",
      "name": "python",
      "nbconvert_exporter": "python",
      "pygments_lexer": "ipython3",
      "version": "3.10.6"
    },
    "vscode": {
      "interpreter": {
        "hash": "916dbcbb3f70747c44a77c7bcd40155683ae19c65e1c03b4aa3499c5328201f1"
      }
    }
  },
  "nbformat": 4,
  "nbformat_minor": 5
}
